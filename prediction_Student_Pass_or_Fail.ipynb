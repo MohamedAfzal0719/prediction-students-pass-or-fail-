{
  "nbformat": 4,
  "nbformat_minor": 0,
  "metadata": {
    "colab": {
      "provenance": [],
      "authorship_tag": "ABX9TyOsz6Pqm2+Jy1k6iIaWpmwV",
      "include_colab_link": true
    },
    "kernelspec": {
      "name": "python3",
      "display_name": "Python 3"
    },
    "language_info": {
      "name": "python"
    }
  },
  "cells": [
    {
      "cell_type": "markdown",
      "metadata": {
        "id": "view-in-github",
        "colab_type": "text"
      },
      "source": [
        "<a href=\"https://colab.research.google.com/github/MohamedAfzal0719/prediction-students-pass-or-fail-/blob/main/prediction_Student_Pass_or_Fail.ipynb\" target=\"_parent\"><img src=\"https://colab.research.google.com/assets/colab-badge.svg\" alt=\"Open In Colab\"/></a>"
      ]
    },
    {
      "cell_type": "code",
      "execution_count": null,
      "metadata": {
        "id": "8Hn7X4GNw67g"
      },
      "outputs": [],
      "source": [
        "# Import required libraries\n",
        "import pandas as pd\n",
        "import matplotlib.pyplot as plt\n",
        "from sklearn.model_selection import train_test_split\n",
        "from sklearn.linear_model import LogisticRegression\n",
        "from sklearn.metrics import accuracy_score, confusion_matrix\n",
        "\n",
        "# Step 1: Create the dataset\n",
        "data = {\n",
        "    'Hours_Studied': [5, 2, 4, 1, 6, 3, 2, 7],\n",
        "    'Attendance': [85, 60, 75, 50, 90, 65, 55, 95],\n",
        "    'Pass_Fail': [1, 0, 1, 0, 1, 0, 0, 1]\n",
        "}\n",
        "df = pd.DataFrame(data)\n",
        "\n",
        "# Step 2: Display the dataset\n",
        "print(\"Dataset:\")\n",
        "print(df)\n",
        "\n",
        "# Step 3: Prepare the data\n",
        "X = df[['Hours_Studied', 'Attendance']]\n",
        "y = df['Pass_Fail']\n",
        "\n",
        "# Step 4: Split the dataset\n",
        "X_train, X_test, y_train, y_test = train_test_split(X, y, test_size=0.3, random_state=42)\n",
        "\n",
        "# Step 5: Train the model\n",
        "model = LogisticRegression()\n",
        "model.fit(X_train, y_train)\n",
        "\n",
        "# Step 6: Test prediction and accuracy\n",
        "y_pred = model.predict(X_test)\n",
        "print(\"\\nModel Evaluation:\")\n",
        "print(\"Accuracy Score:\", accuracy_score(y_test, y_pred))\n",
        "print(\"Confusion Matrix:\\n\", confusion_matrix(y_test, y_pred))\n",
        "\n",
        "# Step 7: Take user input\n",
        "try:\n",
        "    hours = float(input(\"\\nEnter number of hours studied: \"))\n",
        "    attendance = float(input(\"Enter attendance percentage: \"))\n",
        "\n",
        "    # Step 8: Make prediction\n",
        "    user_input = pd.DataFrame({'Hours_Studied': [hours], 'Attendance': [attendance]})\n",
        "    prediction = model.predict(user_input)\n",
        "    result = \"Pass ✅\" if prediction[0] == 1 else \"Fail ❌\"\n",
        "    print(\"\\nPrediction Result:\", result)\n",
        "\n",
        "except ValueError:\n",
        "    print(\"❗ Please enter valid numeric values for both fields.\")\n",
        "\n",
        "# Optional: Visualize the dataset\n",
        "plt.scatter(df['Hours_Studied'], df['Attendance'], c=df['Pass_Fail'], cmap='bwr')\n",
        "plt.xlabel(\"Hours Studied\")\n",
        "plt.ylabel(\"Attendance (%)\")\n",
        "plt.title(\"Student Performance\")\n",
        "plt.colorbar(label='Pass(1) / Fail(0)')\n",
        "plt.grid(True)\n",
        "plt.show()"
      ]
    },
    {
      "cell_type": "code",
      "source": [],
      "metadata": {
        "id": "cb42fBQNxHwZ"
      },
      "execution_count": null,
      "outputs": []
    }
  ]
}